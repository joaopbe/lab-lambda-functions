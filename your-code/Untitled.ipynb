{
 "cells": [
  {
   "cell_type": "code",
   "execution_count": null,
   "metadata": {},
   "outputs": [],
   "source": [
    "# Ask for a number between 0 and 9999 in input and print it followed by so many zeros that there always are ten digits\n",
    "# Then print the same number with enough zeros before the number that there are always ten digits. \n",
    "# Do the same both times with spaces instead of zeroes.\n",
    "# (hint: look at format)\n",
    "\n",
    "number = input ('Give a number between 0 and 9999')\n"
   ]
  },
  {
   "cell_type": "code",
   "execution_count": null,
   "metadata": {},
   "outputs": [],
   "source": []
  }
 ],
 "metadata": {
  "kernelspec": {
   "display_name": "Python 3",
   "language": "python",
   "name": "python3"
  }
 },
 "nbformat": 4,
 "nbformat_minor": 2
}
